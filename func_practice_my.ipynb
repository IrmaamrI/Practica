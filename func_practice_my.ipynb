{
  "nbformat": 4,
  "nbformat_minor": 0,
  "metadata": {
    "kernelspec": {
      "display_name": "Python 3",
      "language": "python",
      "name": "python3"
    },
    "language_info": {
      "codemirror_mode": {
        "name": "ipython",
        "version": 3
      },
      "file_extension": ".py",
      "mimetype": "text/x-python",
      "name": "python",
      "nbconvert_exporter": "python",
      "pygments_lexer": "ipython3",
      "version": "3.8.2"
    },
    "colab": {
      "name": "func_practice_my.ipynb",
      "provenance": [],
      "collapsed_sections": []
    }
  },
  "cells": [
    {
      "cell_type": "code",
      "metadata": {
        "id": "yWxm2v4XHVQv"
      },
      "source": [
        ""
      ],
      "execution_count": null,
      "outputs": []
    },
    {
      "cell_type": "markdown",
      "metadata": {
        "id": "ylixGHVOvAqB"
      },
      "source": [
        "## Classwork\n",
        "\n",
        "*Сделайте одну задачу на выбор. Выполнение больше одной приветствуется*"
      ]
    },
    {
      "cell_type": "markdown",
      "metadata": {
        "id": "WbpgWXdHvgV8"
      },
      "source": [
        "**Задача 1.**  Напишите генератор названий компаний (почти как генератор паролей). \n",
        "Пусть в названии компании будет 6 частей, рандомно выбирающихся из списка names.\n",
        "\n",
        "Сделайте это функцией"
      ]
    },
    {
      "cell_type": "code",
      "metadata": {
        "colab": {
          "base_uri": "https://localhost:8080/"
        },
        "id": "lIwa6cOqvcTs",
        "outputId": "0e3db847-dade-41a4-c50a-1e6e142067f3"
      },
      "source": [
        "# генератор названий компаний\n",
        "\n",
        "import random\n",
        "\n",
        "names = [\"пром\",\"агро\",\"торг\",\"урал\",\"север\",\"юг\",\"техно\",\n",
        "\"экспо\",\"метал\",\"нефть\",\"сельхоз\",\"фарм\",\"строй\",\n",
        "\"кредит\",\"алмаз\",\"-девелопмент\",\"развитие\",\"мос\",\n",
        "\"рос\",\"кубань\",\"сибирь\",\"восток\",\"нано\",\"софт\",\n",
        "\"микро\",\"онлайн\",\"инвест\",\"текстиль\",\"цемент\"]\n",
        "\n",
        "# Ваш код ниже\n",
        "\n",
        "\n",
        "def company(a):\n",
        "  \n",
        "  i=0\n",
        "  while i<6:\n",
        "    y=str(random.choice(a))\n",
        "    i=i+1\n",
        "    \n",
        "    print(y,sep='',end='')\n",
        "\n",
        "company(names)\n"
      ],
      "execution_count": 2,
      "outputs": [
        {
          "output_type": "stream",
          "name": "stdout",
          "text": [
            "торг-девелопментпромэксповостокцемент"
          ]
        }
      ]
    },
    {
      "cell_type": "code",
      "metadata": {
        "id": "QVW9ZXOA5jG-"
      },
      "source": [
        ""
      ],
      "execution_count": null,
      "outputs": []
    },
    {
      "cell_type": "markdown",
      "metadata": {
        "id": "YQt1yaC5HVQ3"
      },
      "source": [
        "**Задача 2.** Генератор паролей\n",
        "\n",
        "Пароли, получаемые в результате, должны удовлетворять следующим условиям: \n",
        "     - в пароле есть 3 заглавные буквы (любые, в любом месте пароля)\n",
        "     - в пароле есть 4 цифры (любые, в любом месте)\n",
        "     - оставшиеся символы пароля - строчные латинские буквы\n",
        "     \n",
        "Создайте функцию, которая генерирует пароли, пользователь задает число символов в пароле (как аргумент функции)"
      ]
    },
    {
      "cell_type": "code",
      "metadata": {
        "id": "Mm3FYaIJ99GJ",
        "colab": {
          "base_uri": "https://localhost:8080/"
        },
        "outputId": "23553378-4c64-4606-a9cd-9146edfd44ec"
      },
      "source": [
        "import random\n",
        "\n",
        "def password(c):\n",
        "\n",
        "  big_letters=['A','B','C','D','E','F','G','H','I','J','K','L','M','N','O','P','Q','R','S','T','U','V','W','X','Y','Z']\n",
        "  numbers=['1','2','3','4','5','6','7','8','9','0']\n",
        "  letters=['a','b','c','d','e','f','g','h','i','j','k','l','m','n','o','p','q','r','s','t','u','v','w','x','y','z']\n",
        "\n",
        "  password1=''\n",
        "  f=c-7\n",
        "  for i in range(0,3):\n",
        "    password1+=random.choice(big_letters)\n",
        "  \n",
        "  for i in range(0,4):\n",
        "    password1+=random.choice(numbers)\n",
        "\n",
        "  for i in range(0,f):\n",
        "    password1+=random.choice(letters)\n",
        "  \n",
        "  res=list(password1)\n",
        "  random.shuffle(res)\n",
        "  password2=''.join(res)\n",
        "  print(password2)\n",
        "\n",
        "password(22)"
      ],
      "execution_count": 1,
      "outputs": [
        {
          "output_type": "stream",
          "name": "stdout",
          "text": [
            "v3a2mf74ctRwodGCohibsc\n"
          ]
        }
      ]
    }
  ]
}